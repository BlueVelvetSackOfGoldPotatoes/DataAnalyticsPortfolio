{
 "cells": [
  {
   "cell_type": "code",
   "execution_count": 1,
   "metadata": {},
   "outputs": [],
   "source": [
    "import random\n",
    "import numpy as np\n",
    "import matplotlib.pyplot as plt\n",
    "%matplotlib inline"
   ]
  },
  {
   "cell_type": "code",
   "execution_count": 2,
   "metadata": {},
   "outputs": [],
   "source": [
    "'''\n",
    "Builds an array with an equal number of zeros and ones\n",
    "and then mixes these.\n",
    "'''\n",
    "def create_array_solution(size):\n",
    "\n",
    "    n_ones = int(size / 2)\n",
    "\n",
    "    array = np.zeros(size)\n",
    "    array[0: n_ones] = 1\n",
    "\n",
    "    np.random.shuffle(array)\n",
    "    \n",
    "    return array"
   ]
  },
  {
   "cell_type": "code",
   "execution_count": 3,
   "metadata": {},
   "outputs": [],
   "source": [
    "'''\n",
    "Set up an initial array of all zeros\n",
    "Loop through each row (individual)\n",
    "Choose a random number of ones to create\n",
    "Change the required number of zeros to ones\n",
    "Sfuffle row\n",
    "'''\n",
    "def create_first_population(individuals, size):\n",
    "    population = np.zeros((individuals, size))\n",
    "    for i in range(individuals):\n",
    "        number_of_ones = random.randint(0, size)\n",
    "        population[i, 0:number_of_ones] = 1\n",
    "        np.random.shuffle(population[i])\n",
    "    \n",
    "    return population"
   ]
  },
  {
   "cell_type": "code",
   "execution_count": 4,
   "metadata": {},
   "outputs": [],
   "source": [
    "'''\n",
    "Return the number of genes (elements) in a\n",
    "potential solution (chromosome) that match the f-reference standard.\n",
    "Create an array of True/False compared to reference.\n",
    "Sum number of genes that are identical to the reference.\n",
    "'''\n",
    "def calc_fitness(reference, population):\n",
    "    identical_to_reference = population == reference\n",
    "    fitness_scores = identical_to_reference.sum(axis=1)\n",
    "    \n",
    "    return fitness_scores"
   ]
  },
  {
   "cell_type": "code",
   "execution_count": 5,
   "metadata": {},
   "outputs": [],
   "source": [
    "'''\n",
    "Get population size.\n",
    "Pick individuals for tournament.\n",
    "Get fitness score for each.\n",
    "Identify undividual with highest fitness.\n",
    "Fighter 1 will win if score are equal.\n",
    "Return the chromsome of the winner.\n",
    "'''\n",
    "def tournament(population, scores):\n",
    "    population_size = len(scores)\n",
    "    \n",
    "    fighter_1 = random.randint(0, population_size-1)\n",
    "    fighter_2 = random.randint(0, population_size-1)\n",
    "    \n",
    "    fighter_1_fitness = scores[fighter_1]\n",
    "    fighter_2_fitness = scores[fighter_2]\n",
    "    \n",
    "\n",
    "    if fighter_1_fitness >= fighter_2_fitness:\n",
    "        winner = fighter_1\n",
    "    else:\n",
    "        winner = fighter_2\n",
    "    \n",
    "    return population[winner, :]"
   ]
  },
  {
   "cell_type": "code",
   "execution_count": 6,
   "metadata": {},
   "outputs": [],
   "source": [
    "'''\n",
    "Get length of chromosome of parent 1.\n",
    "Pick crossover point, avoding the ending bits of chromsome.\n",
    "Create and return children using np.hstack.\n",
    "'''\n",
    "def crossover(parent_1, parent_2):\n",
    "    chromosome_size = len(parent_1)\n",
    "    \n",
    "    crossover_point = random.randint(1,chromosome_size-1)\n",
    "    \n",
    "    child_1 = np.hstack((parent_1[0:crossover_point],\n",
    "                        parent_2[crossover_point:]))\n",
    "    \n",
    "    child_2 = np.hstack((parent_2[0:crossover_point],\n",
    "                        parent_1[crossover_point:]))\n",
    "    \n",
    "    return child_1, child_2\n"
   ]
  },
  {
   "cell_type": "code",
   "execution_count": 7,
   "metadata": {},
   "outputs": [],
   "source": [
    "'''\n",
    "Apply random mutation.\n",
    "Return mutated  population.\n",
    "'''\n",
    "def mutate(population, mutation_probability):\n",
    "    \n",
    "    random_mutation_array = np.random.random(\n",
    "        size=(population.shape))\n",
    "    \n",
    "    random_mutation_boolean = \\\n",
    "        random_mutation_array <= mutation_probability\n",
    "\n",
    "    population[random_mutation_boolean] = \\\n",
    "    np.logical_not(population[random_mutation_boolean])\n",
    "    \n",
    "    return population"
   ]
  },
  {
   "cell_type": "code",
   "execution_count": 8,
   "metadata": {},
   "outputs": [],
   "source": [
    "def main() :\n",
    "    chromosome_size = 75\n",
    "    population_size = 500\n",
    "    maximum_generation = 200\n",
    "    best_score_progress = []\n",
    "\n",
    "    reference = create_array_solution(chromosome_size)\n",
    "\n",
    "    population = create_first_population(population_size, chromosome_size)\n",
    "\n",
    "    scores = calc_fitness(reference, population)\n",
    "    best_score = np.max(scores)/chromosome_size * 100\n",
    "    print ('Starting best score, percent target: %.1f' %best_score)\n",
    "\n",
    "    best_score_progress.append(best_score)\n",
    "\n",
    "    # Generations\n",
    "    for generation in range(maximum_generation):\n",
    "        new_population = []\n",
    "        \n",
    "        # Create new popualtion generating two children at a time\n",
    "        for i in range(int(population_size/2)):\n",
    "            parent_1 = tournament(population, scores)\n",
    "            parent_2 = tournament(population, scores)\n",
    "            child_1, child_2 = crossover(parent_1, parent_2)\n",
    "            new_population.append(child_1)\n",
    "            new_population.append(child_2)\n",
    "        \n",
    "        population = np.array(new_population)\n",
    "        \n",
    "        mutation_rate = 0.002\n",
    "        population = mutate(population, mutation_rate)\n",
    "\n",
    "        scores = calc_fitness(reference, population)\n",
    "        best_score = np.max(scores)/chromosome_size * 100\n",
    "        best_score_progress.append(best_score)\n",
    "\n",
    "    # GA has completed required generation\n",
    "    print ('End best score, percent target: %.1f' %best_score)\n",
    "\n",
    "    plt.plot(best_score_progress)\n",
    "    plt.xlabel('Generation')\n",
    "    plt.ylabel('Best score (% target)')\n",
    "    plt.show()\n"
   ]
  },
  {
   "cell_type": "code",
   "execution_count": 9,
   "metadata": {},
   "outputs": [
    {
     "name": "stdout",
     "output_type": "stream",
     "text": [
      "Starting best score, percent target: 68.0\n",
      "End best score, percent target: 100.0\n"
     ]
    },
    {
     "data": {
      "image/png": "[encoded data removed]",
      "text/plain": [
       "<Figure size 432x288 with 1 Axes>"
      ]
     },
     "metadata": {
      "needs_background": "light"
     },
     "output_type": "display_data"
    }
   ],
   "source": [
    "if __name__ == \"__main__\":\n",
    "    main()"
   ]
  },
  {
   "cell_type": "code",
   "execution_count": null,
   "metadata": {},
   "outputs": [],
   "source": []
  }
 ],
 "metadata": {
  "kernelspec": {
   "display_name": "Python 3",
   "language": "python",
   "name": "python3"
  },
  "language_info": {
   "codemirror_mode": {
    "name": "ipython",
    "version": 3
   },
   "file_extension": ".py",
   "mimetype": "text/x-python",
   "name": "python",
   "nbconvert_exporter": "python",
   "pygments_lexer": "ipython3",
   "version": "3.7.3"
  }
 },
 "nbformat": 4,
 "nbformat_minor": 2
}
